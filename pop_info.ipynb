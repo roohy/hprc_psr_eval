{
 "cells": [
  {
   "cell_type": "code",
   "execution_count": 1,
   "metadata": {},
   "outputs": [],
   "source": [
    "#This notebook creates samples files for the analysis and can be used to extract population metadata. \n",
    "import numpy as np\n",
    "import pandas as pd\n",
    "from matplotlib import pyplot as plt\n",
    "import seaborn as sns\n",
    "import json\n",
    "import pickle"
   ]
  },
  {
   "cell_type": "code",
   "execution_count": 28,
   "metadata": {},
   "outputs": [],
   "source": [
    "major_file_ids = []\n",
    "with open('./major_file_ids.txt') as major_id_file:\n",
    "    for line in major_id_file:\n",
    "        major_file_ids.append(line.strip())\n",
    "related_file_ids = []\n",
    "with open('./1000G_698_related_high_coverage.sequence.txt','r') as related_file:\n",
    "    for line in related_file:\n",
    "        if line.startswith('#'):\n",
    "            continue\n",
    "        related_file_ids.append(line.strip().split()[-7])\n",
    "phase1_ids = []\n",
    "with open('./phase1_ids.txt') as phase1_file:\n",
    "    for line in phase1_file:\n",
    "        phase1_ids.append(line.strip())\n",
    "phase1_p1_ids = []\n",
    "with open('./plus_v1.txt') as phase1_p1_file:\n",
    "    for line in phase1_p1_file:\n",
    "        phase1_p1_ids.append(line.strip())\n",
    "hgsvc_ids = []\n",
    "with open('./HGSVC/samples.txt') as hgsvc_file:\n",
    "    for line in hgsvc_file:\n",
    "        hgsvc_ids.append(line.strip())\n",
    "parents_of_phase1_ids = []\n",
    "with open('./1kGP.3202_samples.pedigree_info.txt') as  pedigree_file:\n",
    "    pedigree_file.readline()\n",
    "    for line in pedigree_file:\n",
    "        data = line.strip().split()\n",
    "        if data[0] in phase1_ids:\n",
    "            parents_of_phase1_ids.append(data[1])\n",
    "            parents_of_phase1_ids.append(data[2])\n"
   ]
  },
  {
   "cell_type": "code",
   "execution_count": 29,
   "metadata": {},
   "outputs": [],
   "source": [
    "main_ids = set(major_file_ids)\n",
    "related_ids = set(related_file_ids)\n",
    "phase1_ids = set(phase1_ids)\n",
    "phase1_parents = set(parents_of_phase1_ids)\n",
    "phase1_p1_ids = set(phase1_p1_ids)\n",
    "hgsvc_ids = set(hgsvc_ids)\n"
   ]
  },
  {
   "cell_type": "code",
   "execution_count": 30,
   "metadata": {},
   "outputs": [
    {
     "data": {
      "text/plain": [
       "(0, 4, 0)"
      ]
     },
     "execution_count": 30,
     "metadata": {},
     "output_type": "execute_result"
    }
   ],
   "source": [
    "len(hgsvc_ids&phase1_ids),len(hgsvc_ids&phase1_p1_ids),len(phase1_p1_ids&phase1_ids)"
   ]
  },
  {
   "cell_type": "code",
   "execution_count": 31,
   "metadata": {},
   "outputs": [
    {
     "data": {
      "text/plain": [
       "{'HG00733', 'HG02818', 'HG03486', 'NA19240'}"
      ]
     },
     "execution_count": 31,
     "metadata": {},
     "output_type": "execute_result"
    }
   ],
   "source": [
    "hgsvc_ids&phase1_p1_ids"
   ]
  },
  {
   "cell_type": "code",
   "execution_count": 33,
   "metadata": {},
   "outputs": [
    {
     "data": {
      "text/plain": [
       "(69, 32, 32, 2504, 64)"
      ]
     },
     "execution_count": 33,
     "metadata": {},
     "output_type": "execute_result"
    }
   ],
   "source": [
    "len(hgsvc_ids), len(hgsvc_ids&main_ids),len(hgsvc_ids&related_ids),len(main_ids),len(hgsvc_ids&main_ids)+len(hgsvc_ids&related_ids)"
   ]
  },
  {
   "cell_type": "code",
   "execution_count": 36,
   "metadata": {},
   "outputs": [
    {
     "data": {
      "text/plain": [
       "(20, 2, 14, 2504, 16)"
      ]
     },
     "execution_count": 36,
     "metadata": {},
     "output_type": "execute_result"
    }
   ],
   "source": [
    "len(phase1_p1_ids), len(phase1_p1_ids&main_ids),len(phase1_p1_ids&related_ids),len(main_ids),len(phase1_p1_ids&main_ids)+len(phase1_p1_ids&related_ids)"
   ]
  },
  {
   "cell_type": "code",
   "execution_count": 47,
   "metadata": {},
   "outputs": [],
   "source": [
    "phase1_p1_agg_ids=phase1_p1_ids|phase1_ids\n",
    "p1p1a_parents = []\n",
    "with open('./1kGP.3202_samples.pedigree_info.txt') as  pedigree_file:\n",
    "    pedigree_file.readline()\n",
    "    for line in pedigree_file:\n",
    "        data = line.strip().split()\n",
    "        if data[0] in phase1_p1_agg_ids:\n",
    "            p1p1a_parents.append(data[1])\n",
    "            p1p1a_parents.append(data[2])\n",
    "p1p1a_parents = set(p1p1a_parents)\n"
   ]
  },
  {
   "cell_type": "code",
   "execution_count": 48,
   "metadata": {},
   "outputs": [
    {
     "data": {
      "text/plain": [
       "2195"
      ]
     },
     "execution_count": 48,
     "metadata": {},
     "output_type": "execute_result"
    }
   ],
   "source": [
    "len(main_ids - p1p1a_parents-phase1_p1_agg_ids)"
   ]
  },
  {
   "cell_type": "code",
   "execution_count": 2,
   "metadata": {},
   "outputs": [],
   "source": [
    "subpopdf = pd.read_csv('./subpops.csv',delimiter=',')\n",
    "subpopdf.dropna(inplace=True)\n",
    "subpopdf.set_index('sampleid',inplace=True)"
   ]
  },
  {
   "cell_type": "code",
   "execution_count": 9,
   "metadata": {},
   "outputs": [],
   "source": [
    "phase1 = pd.read_csv('./phase1_ids.txt',header=None)\n",
    "phase1_plus1 = pd.read_csv('./plus_v1.txt',header=None)\n",
    "\n",
    "hgsvc = pd.read_csv('./HGSVC/samples.txt',header=None)"
   ]
  },
  {
   "cell_type": "code",
   "execution_count": 10,
   "metadata": {},
   "outputs": [],
   "source": [
    "phase1.set_index(0,inplace=True)\n",
    "phase1_plus1.set_index(0,inplace=True)\n",
    "hgsvc.set_index(0,inplace=True)"
   ]
  },
  {
   "cell_type": "code",
   "execution_count": 11,
   "metadata": {},
   "outputs": [
    {
     "name": "stdout",
     "output_type": "stream",
     "text": [
      "Phase 1 Size diff: 0\n",
      "Phase 1 +1 Size diff: 2\n",
      "HSVC Size diff: 2\n"
     ]
    }
   ],
   "source": [
    "size = phase1.shape[0]\n",
    "phase1 = phase1.join(subpopdf,how='inner')\n",
    "size2 = phase1.shape[0]\n",
    "print(f'Phase 1 Size diff: {size-size2}')\n",
    "size = phase1_plus1.shape[0]\n",
    "phase1_plus1 = phase1_plus1.join(subpopdf,how='inner')\n",
    "size2 = phase1_plus1.shape[0]\n",
    "print(f'Phase 1 +1 Size diff: {size-size2}')\n",
    "size = hgsvc.shape[0]\n",
    "hgsvc = hgsvc.join(subpopdf,how='inner')\n",
    "size2 = hgsvc.shape[0]\n",
    "print(f'HSVC Size diff: {size-size2}')\n"
   ]
  },
  {
   "cell_type": "code",
   "execution_count": 35,
   "metadata": {},
   "outputs": [
    {
     "data": {
      "text/plain": [
       "2504"
      ]
     },
     "execution_count": 35,
     "metadata": {},
     "output_type": "execute_result"
    }
   ],
   "source": [
    "len(main_ids)"
   ]
  },
  {
   "cell_type": "code",
   "execution_count": 50,
   "metadata": {},
   "outputs": [],
   "source": [
    "with open('oos_ids_2.txt','wt') as oos_id_file:\n",
    "    for item in (main_ids - p1p1a_parents)-phase1_p1_agg_ids:\n",
    "        print(f'0 {item}',file=oos_id_file)\n",
    "with open('./phase1_ids_2.txt','wt') as sample_id_file:\n",
    "    for item in phase1_p1_agg_ids:\n",
    "        print(f'0 {item}',file=sample_id_file)"
   ]
  },
  {
   "cell_type": "code",
   "execution_count": 52,
   "metadata": {},
   "outputs": [
    {
     "data": {
      "text/html": [
       "<div>\n",
       "<style scoped>\n",
       "    .dataframe tbody tr th:only-of-type {\n",
       "        vertical-align: middle;\n",
       "    }\n",
       "\n",
       "    .dataframe tbody tr th {\n",
       "        vertical-align: top;\n",
       "    }\n",
       "\n",
       "    .dataframe thead th {\n",
       "        text-align: right;\n",
       "    }\n",
       "</style>\n",
       "<table border=\"1\" class=\"dataframe\">\n",
       "  <thead>\n",
       "    <tr style=\"text-align: right;\">\n",
       "      <th></th>\n",
       "      <th>suppopcode</th>\n",
       "    </tr>\n",
       "    <tr>\n",
       "      <th>popcode</th>\n",
       "      <th></th>\n",
       "    </tr>\n",
       "  </thead>\n",
       "  <tbody>\n",
       "    <tr>\n",
       "      <th>ACB</th>\n",
       "      <td>9</td>\n",
       "    </tr>\n",
       "    <tr>\n",
       "      <th>ASW</th>\n",
       "      <td>5</td>\n",
       "    </tr>\n",
       "    <tr>\n",
       "      <th>BEB</th>\n",
       "      <td>10</td>\n",
       "    </tr>\n",
       "    <tr>\n",
       "      <th>CDX</th>\n",
       "      <td>6</td>\n",
       "    </tr>\n",
       "    <tr>\n",
       "      <th>CHB</th>\n",
       "      <td>5</td>\n",
       "    </tr>\n",
       "    <tr>\n",
       "      <th>CHS</th>\n",
       "      <td>11</td>\n",
       "    </tr>\n",
       "    <tr>\n",
       "      <th>CLM</th>\n",
       "      <td>11</td>\n",
       "    </tr>\n",
       "    <tr>\n",
       "      <th>ESN</th>\n",
       "      <td>7</td>\n",
       "    </tr>\n",
       "    <tr>\n",
       "      <th>FIN</th>\n",
       "      <td>2</td>\n",
       "    </tr>\n",
       "    <tr>\n",
       "      <th>GBR</th>\n",
       "      <td>2</td>\n",
       "    </tr>\n",
       "    <tr>\n",
       "      <th>GIH</th>\n",
       "      <td>4</td>\n",
       "    </tr>\n",
       "    <tr>\n",
       "      <th>GWD</th>\n",
       "      <td>14</td>\n",
       "    </tr>\n",
       "    <tr>\n",
       "      <th>IBS</th>\n",
       "      <td>2</td>\n",
       "    </tr>\n",
       "    <tr>\n",
       "      <th>ITU</th>\n",
       "      <td>3</td>\n",
       "    </tr>\n",
       "    <tr>\n",
       "      <th>JPT</th>\n",
       "      <td>6</td>\n",
       "    </tr>\n",
       "    <tr>\n",
       "      <th>KHV</th>\n",
       "      <td>12</td>\n",
       "    </tr>\n",
       "    <tr>\n",
       "      <th>LWK</th>\n",
       "      <td>5</td>\n",
       "    </tr>\n",
       "    <tr>\n",
       "      <th>MSL</th>\n",
       "      <td>7</td>\n",
       "    </tr>\n",
       "    <tr>\n",
       "      <th>MXL</th>\n",
       "      <td>2</td>\n",
       "    </tr>\n",
       "    <tr>\n",
       "      <th>PEL</th>\n",
       "      <td>15</td>\n",
       "    </tr>\n",
       "    <tr>\n",
       "      <th>PJL</th>\n",
       "      <td>11</td>\n",
       "    </tr>\n",
       "    <tr>\n",
       "      <th>PUR</th>\n",
       "      <td>12</td>\n",
       "    </tr>\n",
       "    <tr>\n",
       "      <th>STU</th>\n",
       "      <td>5</td>\n",
       "    </tr>\n",
       "    <tr>\n",
       "      <th>TSI</th>\n",
       "      <td>3</td>\n",
       "    </tr>\n",
       "    <tr>\n",
       "      <th>YRI</th>\n",
       "      <td>5</td>\n",
       "    </tr>\n",
       "  </tbody>\n",
       "</table>\n",
       "</div>"
      ],
      "text/plain": [
       "         suppopcode\n",
       "popcode            \n",
       "ACB               9\n",
       "ASW               5\n",
       "BEB              10\n",
       "CDX               6\n",
       "CHB               5\n",
       "CHS              11\n",
       "CLM              11\n",
       "ESN               7\n",
       "FIN               2\n",
       "GBR               2\n",
       "GIH               4\n",
       "GWD              14\n",
       "IBS               2\n",
       "ITU               3\n",
       "JPT               6\n",
       "KHV              12\n",
       "LWK               5\n",
       "MSL               7\n",
       "MXL               2\n",
       "PEL              15\n",
       "PJL              11\n",
       "PUR              12\n",
       "STU               5\n",
       "TSI               3\n",
       "YRI               5"
      ]
     },
     "execution_count": 52,
     "metadata": {},
     "output_type": "execute_result"
    }
   ],
   "source": [
    "phase1.groupby('popcode').count()"
   ]
  },
  {
   "cell_type": "code",
   "execution_count": 54,
   "metadata": {},
   "outputs": [
    {
     "data": {
      "text/html": [
       "<div>\n",
       "<style scoped>\n",
       "    .dataframe tbody tr th:only-of-type {\n",
       "        vertical-align: middle;\n",
       "    }\n",
       "\n",
       "    .dataframe tbody tr th {\n",
       "        vertical-align: top;\n",
       "    }\n",
       "\n",
       "    .dataframe thead th {\n",
       "        text-align: right;\n",
       "    }\n",
       "</style>\n",
       "<table border=\"1\" class=\"dataframe\">\n",
       "  <thead>\n",
       "    <tr style=\"text-align: right;\">\n",
       "      <th></th>\n",
       "      <th>suppopcode</th>\n",
       "    </tr>\n",
       "    <tr>\n",
       "      <th>popcode</th>\n",
       "      <th></th>\n",
       "    </tr>\n",
       "  </thead>\n",
       "  <tbody>\n",
       "    <tr>\n",
       "      <th>ACB</th>\n",
       "      <td>2</td>\n",
       "    </tr>\n",
       "    <tr>\n",
       "      <th>ASW</th>\n",
       "      <td>2</td>\n",
       "    </tr>\n",
       "    <tr>\n",
       "      <th>CLM</th>\n",
       "      <td>1</td>\n",
       "    </tr>\n",
       "    <tr>\n",
       "      <th>ESN</th>\n",
       "      <td>1</td>\n",
       "    </tr>\n",
       "    <tr>\n",
       "      <th>GWD</th>\n",
       "      <td>2</td>\n",
       "    </tr>\n",
       "    <tr>\n",
       "      <th>KHV</th>\n",
       "      <td>1</td>\n",
       "    </tr>\n",
       "    <tr>\n",
       "      <th>LWK</th>\n",
       "      <td>1</td>\n",
       "    </tr>\n",
       "    <tr>\n",
       "      <th>MSL</th>\n",
       "      <td>2</td>\n",
       "    </tr>\n",
       "    <tr>\n",
       "      <th>PJL</th>\n",
       "      <td>1</td>\n",
       "    </tr>\n",
       "    <tr>\n",
       "      <th>PUR</th>\n",
       "      <td>3</td>\n",
       "    </tr>\n",
       "    <tr>\n",
       "      <th>YRI</th>\n",
       "      <td>2</td>\n",
       "    </tr>\n",
       "  </tbody>\n",
       "</table>\n",
       "</div>"
      ],
      "text/plain": [
       "         suppopcode\n",
       "popcode            \n",
       "ACB               2\n",
       "ASW               2\n",
       "CLM               1\n",
       "ESN               1\n",
       "GWD               2\n",
       "KHV               1\n",
       "LWK               1\n",
       "MSL               2\n",
       "PJL               1\n",
       "PUR               3\n",
       "YRI               2"
      ]
     },
     "execution_count": 54,
     "metadata": {},
     "output_type": "execute_result"
    }
   ],
   "source": [
    "phase1_plus1.groupby('popcode').count()"
   ]
  },
  {
   "cell_type": "markdown",
   "metadata": {},
   "source": [
    "## Random EUR Samples"
   ]
  },
  {
   "cell_type": "code",
   "execution_count": 103,
   "metadata": {},
   "outputs": [],
   "source": [
    "eur12_ids = []\n",
    "with open('./eur/sids_12.txt','r') as proposed_eur_file:\n",
    "    for line in proposed_eur_file:\n",
    "        eur12_ids.append(line.strip().split()[1])\n",
    "eur24_ids = []\n",
    "with open('./eur/sids_24.txt','r') as proposed_eur_file:\n",
    "    for line in proposed_eur_file:\n",
    "        eur24_ids.append(line.strip().split()[1])\n",
    "all_eur_ids = []\n",
    "with open('./proposed_eur_ids.txt','r') as proposed_eur_file:\n",
    "    for line in proposed_eur_file:\n",
    "        all_eur_ids.append(line.strip())\n",
    "eur12_ids = set(eur12_ids)\n",
    "eur24_ids = set(eur24_ids)\n",
    "all_eur_ids = set(all_eur_ids)"
   ]
  },
  {
   "cell_type": "code",
   "execution_count": 101,
   "metadata": {},
   "outputs": [
    {
     "data": {
      "text/plain": [
       "(12, 24, 20, 0, 0, 32)"
      ]
     },
     "execution_count": 101,
     "metadata": {},
     "output_type": "execute_result"
    }
   ],
   "source": [
    "len(eur12_ids-phase1_p1_agg_ids),len(eur24_ids-phase1_p1_agg_ids),len(phase1_p1_ids- phase1_ids),len((eur12_ids-phase1_ids)&phase1_p1_ids),len((eur24_ids-phase1_ids)&phase1_p1_ids),len(all_eur_ids-phase1_p1_agg_ids)\n"
   ]
  },
  {
   "cell_type": "code",
   "execution_count": 104,
   "metadata": {},
   "outputs": [],
   "source": [
    "eur12_ids = eur12_ids-phase1_p1_agg_ids\n",
    "eur24_ids = eur24_ids-phase1_p1_agg_ids\n",
    "all_eur_ids = all_eur_ids-phase1_p1_agg_ids\n",
    "with open('./eur/euro_ids_12.txt','wt') as proposed_eur_file:\n",
    "    for item in eur12_ids:\n",
    "        print(item,file=proposed_eur_file)\n",
    "\n",
    "with open('./eur/euro_ids_24.txt','wt') as proposed_eur_file:\n",
    "    for item in eur24_ids:\n",
    "        print(item,file=proposed_eur_file)\n",
    "\n",
    "with open('./eur/euro_ids_32.txt','wt') as proposed_eur_file:\n",
    "    for item in all_eur_ids:\n",
    "        print(item,file=proposed_eur_file)\n",
    "\n",
    "# with open('./eur/sids.txt','wt') as output_file:\n",
    "#     for item in all_eur_ids|phase1_p1_agg_ids:\n",
    "#         print(f'{item} {item}',file=output_file)\n",
    "# with open('./eur/sids_12.txt','wt') as output_file:\n",
    "#     for item in eur12_ids|phase1_p1_agg_ids:\n",
    "#         print(f'{item} {item}',file=output_file)\n",
    "# with open('./eur/sids_24.txt','wt') as output_file:\n",
    "#     for item in eur12_ids|phase1_p1_agg_ids:\n",
    "#         print(f'{item} {item}',file=output_file)"
   ]
  },
  {
   "cell_type": "code",
   "execution_count": 106,
   "metadata": {},
   "outputs": [
    {
     "name": "stderr",
     "output_type": "stream",
     "text": [
      "/var/folders/_c/kxtvc9ss3slcnlpn_1b6jtlw0000gp/T/ipykernel_5615/3379991767.py:1: FutureWarning: Passing a set as an indexer is deprecated and will raise in a future version. Use a list instead.\n",
      "  subpopdf.loc[eur12_ids].groupby('popcode').count()\n"
     ]
    },
    {
     "data": {
      "text/html": [
       "<div>\n",
       "<style scoped>\n",
       "    .dataframe tbody tr th:only-of-type {\n",
       "        vertical-align: middle;\n",
       "    }\n",
       "\n",
       "    .dataframe tbody tr th {\n",
       "        vertical-align: top;\n",
       "    }\n",
       "\n",
       "    .dataframe thead th {\n",
       "        text-align: right;\n",
       "    }\n",
       "</style>\n",
       "<table border=\"1\" class=\"dataframe\">\n",
       "  <thead>\n",
       "    <tr style=\"text-align: right;\">\n",
       "      <th></th>\n",
       "      <th>suppopcode</th>\n",
       "    </tr>\n",
       "    <tr>\n",
       "      <th>popcode</th>\n",
       "      <th></th>\n",
       "    </tr>\n",
       "  </thead>\n",
       "  <tbody>\n",
       "    <tr>\n",
       "      <th>FIN</th>\n",
       "      <td>6</td>\n",
       "    </tr>\n",
       "    <tr>\n",
       "      <th>GBR</th>\n",
       "      <td>2</td>\n",
       "    </tr>\n",
       "    <tr>\n",
       "      <th>IBS</th>\n",
       "      <td>1</td>\n",
       "    </tr>\n",
       "    <tr>\n",
       "      <th>TSI</th>\n",
       "      <td>3</td>\n",
       "    </tr>\n",
       "  </tbody>\n",
       "</table>\n",
       "</div>"
      ],
      "text/plain": [
       "         suppopcode\n",
       "popcode            \n",
       "FIN               6\n",
       "GBR               2\n",
       "IBS               1\n",
       "TSI               3"
      ]
     },
     "execution_count": 106,
     "metadata": {},
     "output_type": "execute_result"
    }
   ],
   "source": [
    "subpopdf.loc[eur12_ids].groupby('popcode').count()"
   ]
  },
  {
   "cell_type": "code",
   "execution_count": 107,
   "metadata": {},
   "outputs": [
    {
     "name": "stderr",
     "output_type": "stream",
     "text": [
      "/var/folders/_c/kxtvc9ss3slcnlpn_1b6jtlw0000gp/T/ipykernel_5615/2198654660.py:1: FutureWarning: Passing a set as an indexer is deprecated and will raise in a future version. Use a list instead.\n",
      "  subpopdf.loc[eur24_ids].groupby('popcode').count()\n"
     ]
    },
    {
     "data": {
      "text/html": [
       "<div>\n",
       "<style scoped>\n",
       "    .dataframe tbody tr th:only-of-type {\n",
       "        vertical-align: middle;\n",
       "    }\n",
       "\n",
       "    .dataframe tbody tr th {\n",
       "        vertical-align: top;\n",
       "    }\n",
       "\n",
       "    .dataframe thead th {\n",
       "        text-align: right;\n",
       "    }\n",
       "</style>\n",
       "<table border=\"1\" class=\"dataframe\">\n",
       "  <thead>\n",
       "    <tr style=\"text-align: right;\">\n",
       "      <th></th>\n",
       "      <th>suppopcode</th>\n",
       "    </tr>\n",
       "    <tr>\n",
       "      <th>popcode</th>\n",
       "      <th></th>\n",
       "    </tr>\n",
       "  </thead>\n",
       "  <tbody>\n",
       "    <tr>\n",
       "      <th>FIN</th>\n",
       "      <td>6</td>\n",
       "    </tr>\n",
       "    <tr>\n",
       "      <th>GBR</th>\n",
       "      <td>8</td>\n",
       "    </tr>\n",
       "    <tr>\n",
       "      <th>IBS</th>\n",
       "      <td>3</td>\n",
       "    </tr>\n",
       "    <tr>\n",
       "      <th>TSI</th>\n",
       "      <td>7</td>\n",
       "    </tr>\n",
       "  </tbody>\n",
       "</table>\n",
       "</div>"
      ],
      "text/plain": [
       "         suppopcode\n",
       "popcode            \n",
       "FIN               6\n",
       "GBR               8\n",
       "IBS               3\n",
       "TSI               7"
      ]
     },
     "execution_count": 107,
     "metadata": {},
     "output_type": "execute_result"
    }
   ],
   "source": [
    "subpopdf.loc[eur24_ids].groupby('popcode').count()"
   ]
  },
  {
   "cell_type": "code",
   "execution_count": 108,
   "metadata": {},
   "outputs": [
    {
     "name": "stderr",
     "output_type": "stream",
     "text": [
      "/var/folders/_c/kxtvc9ss3slcnlpn_1b6jtlw0000gp/T/ipykernel_5615/974550828.py:1: FutureWarning: Passing a set as an indexer is deprecated and will raise in a future version. Use a list instead.\n",
      "  subpopdf.loc[all_eur_ids].groupby('popcode').count()\n"
     ]
    },
    {
     "data": {
      "text/html": [
       "<div>\n",
       "<style scoped>\n",
       "    .dataframe tbody tr th:only-of-type {\n",
       "        vertical-align: middle;\n",
       "    }\n",
       "\n",
       "    .dataframe tbody tr th {\n",
       "        vertical-align: top;\n",
       "    }\n",
       "\n",
       "    .dataframe thead th {\n",
       "        text-align: right;\n",
       "    }\n",
       "</style>\n",
       "<table border=\"1\" class=\"dataframe\">\n",
       "  <thead>\n",
       "    <tr style=\"text-align: right;\">\n",
       "      <th></th>\n",
       "      <th>suppopcode</th>\n",
       "    </tr>\n",
       "    <tr>\n",
       "      <th>popcode</th>\n",
       "      <th></th>\n",
       "    </tr>\n",
       "  </thead>\n",
       "  <tbody>\n",
       "    <tr>\n",
       "      <th>FIN</th>\n",
       "      <td>8</td>\n",
       "    </tr>\n",
       "    <tr>\n",
       "      <th>GBR</th>\n",
       "      <td>8</td>\n",
       "    </tr>\n",
       "    <tr>\n",
       "      <th>IBS</th>\n",
       "      <td>8</td>\n",
       "    </tr>\n",
       "    <tr>\n",
       "      <th>TSI</th>\n",
       "      <td>8</td>\n",
       "    </tr>\n",
       "  </tbody>\n",
       "</table>\n",
       "</div>"
      ],
      "text/plain": [
       "         suppopcode\n",
       "popcode            \n",
       "FIN               8\n",
       "GBR               8\n",
       "IBS               8\n",
       "TSI               8"
      ]
     },
     "execution_count": 108,
     "metadata": {},
     "output_type": "execute_result"
    }
   ],
   "source": [
    "subpopdf.loc[all_eur_ids].groupby('popcode').count()"
   ]
  },
  {
   "cell_type": "markdown",
   "metadata": {},
   "source": [
    "## AFR Samples generated in evaluate notebook"
   ]
  },
  {
   "cell_type": "code",
   "execution_count": 82,
   "metadata": {},
   "outputs": [],
   "source": [
    "afk_samples = []\n",
    "with open('./afk/all_bg.txt','r') as afk_sample_file:\n",
    "    for line in afk_sample_file:\n",
    "        afk_samples.append(line.strip())\n",
    "afk_ids = set(afk_samples)\n",
    "afk_12_ids = set(afk_samples[-12:])\n",
    "afk_24_ids = set(afk_samples[-24:])"
   ]
  },
  {
   "cell_type": "code",
   "execution_count": 110,
   "metadata": {},
   "outputs": [
    {
     "name": "stderr",
     "output_type": "stream",
     "text": [
      "/var/folders/_c/kxtvc9ss3slcnlpn_1b6jtlw0000gp/T/ipykernel_5615/838707325.py:1: FutureWarning: Passing a set as an indexer is deprecated and will raise in a future version. Use a list instead.\n",
      "  subpopdf.loc[afk_12_ids].groupby('popcode').count()\n"
     ]
    },
    {
     "data": {
      "text/html": [
       "<div>\n",
       "<style scoped>\n",
       "    .dataframe tbody tr th:only-of-type {\n",
       "        vertical-align: middle;\n",
       "    }\n",
       "\n",
       "    .dataframe tbody tr th {\n",
       "        vertical-align: top;\n",
       "    }\n",
       "\n",
       "    .dataframe thead th {\n",
       "        text-align: right;\n",
       "    }\n",
       "</style>\n",
       "<table border=\"1\" class=\"dataframe\">\n",
       "  <thead>\n",
       "    <tr style=\"text-align: right;\">\n",
       "      <th></th>\n",
       "      <th>suppopcode</th>\n",
       "    </tr>\n",
       "    <tr>\n",
       "      <th>popcode</th>\n",
       "      <th></th>\n",
       "    </tr>\n",
       "  </thead>\n",
       "  <tbody>\n",
       "    <tr>\n",
       "      <th>ACB</th>\n",
       "      <td>2</td>\n",
       "    </tr>\n",
       "    <tr>\n",
       "      <th>ASW</th>\n",
       "      <td>6</td>\n",
       "    </tr>\n",
       "    <tr>\n",
       "      <th>ESN</th>\n",
       "      <td>1</td>\n",
       "    </tr>\n",
       "    <tr>\n",
       "      <th>MSL</th>\n",
       "      <td>1</td>\n",
       "    </tr>\n",
       "    <tr>\n",
       "      <th>YRI</th>\n",
       "      <td>2</td>\n",
       "    </tr>\n",
       "  </tbody>\n",
       "</table>\n",
       "</div>"
      ],
      "text/plain": [
       "         suppopcode\n",
       "popcode            \n",
       "ACB               2\n",
       "ASW               6\n",
       "ESN               1\n",
       "MSL               1\n",
       "YRI               2"
      ]
     },
     "execution_count": 110,
     "metadata": {},
     "output_type": "execute_result"
    }
   ],
   "source": [
    "subpopdf.loc[afk_12_ids].groupby('popcode').count()"
   ]
  },
  {
   "cell_type": "code",
   "execution_count": 111,
   "metadata": {},
   "outputs": [
    {
     "name": "stderr",
     "output_type": "stream",
     "text": [
      "/var/folders/_c/kxtvc9ss3slcnlpn_1b6jtlw0000gp/T/ipykernel_5615/3246670217.py:1: FutureWarning: Passing a set as an indexer is deprecated and will raise in a future version. Use a list instead.\n",
      "  subpopdf.loc[afk_24_ids].groupby('popcode').count()\n"
     ]
    },
    {
     "data": {
      "text/html": [
       "<div>\n",
       "<style scoped>\n",
       "    .dataframe tbody tr th:only-of-type {\n",
       "        vertical-align: middle;\n",
       "    }\n",
       "\n",
       "    .dataframe tbody tr th {\n",
       "        vertical-align: top;\n",
       "    }\n",
       "\n",
       "    .dataframe thead th {\n",
       "        text-align: right;\n",
       "    }\n",
       "</style>\n",
       "<table border=\"1\" class=\"dataframe\">\n",
       "  <thead>\n",
       "    <tr style=\"text-align: right;\">\n",
       "      <th></th>\n",
       "      <th>suppopcode</th>\n",
       "    </tr>\n",
       "    <tr>\n",
       "      <th>popcode</th>\n",
       "      <th></th>\n",
       "    </tr>\n",
       "  </thead>\n",
       "  <tbody>\n",
       "    <tr>\n",
       "      <th>ACB</th>\n",
       "      <td>4</td>\n",
       "    </tr>\n",
       "    <tr>\n",
       "      <th>ASW</th>\n",
       "      <td>14</td>\n",
       "    </tr>\n",
       "    <tr>\n",
       "      <th>ESN</th>\n",
       "      <td>1</td>\n",
       "    </tr>\n",
       "    <tr>\n",
       "      <th>LWK</th>\n",
       "      <td>2</td>\n",
       "    </tr>\n",
       "    <tr>\n",
       "      <th>MSL</th>\n",
       "      <td>1</td>\n",
       "    </tr>\n",
       "    <tr>\n",
       "      <th>YRI</th>\n",
       "      <td>2</td>\n",
       "    </tr>\n",
       "  </tbody>\n",
       "</table>\n",
       "</div>"
      ],
      "text/plain": [
       "         suppopcode\n",
       "popcode            \n",
       "ACB               4\n",
       "ASW              14\n",
       "ESN               1\n",
       "LWK               2\n",
       "MSL               1\n",
       "YRI               2"
      ]
     },
     "execution_count": 111,
     "metadata": {},
     "output_type": "execute_result"
    }
   ],
   "source": [
    "subpopdf.loc[afk_24_ids].groupby('popcode').count()"
   ]
  },
  {
   "cell_type": "code",
   "execution_count": 112,
   "metadata": {},
   "outputs": [
    {
     "name": "stderr",
     "output_type": "stream",
     "text": [
      "/var/folders/_c/kxtvc9ss3slcnlpn_1b6jtlw0000gp/T/ipykernel_5615/108303483.py:1: FutureWarning: Passing a set as an indexer is deprecated and will raise in a future version. Use a list instead.\n",
      "  subpopdf.loc[afk_ids].groupby('popcode').count()\n"
     ]
    },
    {
     "data": {
      "text/html": [
       "<div>\n",
       "<style scoped>\n",
       "    .dataframe tbody tr th:only-of-type {\n",
       "        vertical-align: middle;\n",
       "    }\n",
       "\n",
       "    .dataframe tbody tr th {\n",
       "        vertical-align: top;\n",
       "    }\n",
       "\n",
       "    .dataframe thead th {\n",
       "        text-align: right;\n",
       "    }\n",
       "</style>\n",
       "<table border=\"1\" class=\"dataframe\">\n",
       "  <thead>\n",
       "    <tr style=\"text-align: right;\">\n",
       "      <th></th>\n",
       "      <th>suppopcode</th>\n",
       "    </tr>\n",
       "    <tr>\n",
       "      <th>popcode</th>\n",
       "      <th></th>\n",
       "    </tr>\n",
       "  </thead>\n",
       "  <tbody>\n",
       "    <tr>\n",
       "      <th>ACB</th>\n",
       "      <td>6</td>\n",
       "    </tr>\n",
       "    <tr>\n",
       "      <th>ASW</th>\n",
       "      <td>15</td>\n",
       "    </tr>\n",
       "    <tr>\n",
       "      <th>ESN</th>\n",
       "      <td>4</td>\n",
       "    </tr>\n",
       "    <tr>\n",
       "      <th>LWK</th>\n",
       "      <td>2</td>\n",
       "    </tr>\n",
       "    <tr>\n",
       "      <th>MSL</th>\n",
       "      <td>1</td>\n",
       "    </tr>\n",
       "    <tr>\n",
       "      <th>YRI</th>\n",
       "      <td>4</td>\n",
       "    </tr>\n",
       "  </tbody>\n",
       "</table>\n",
       "</div>"
      ],
      "text/plain": [
       "         suppopcode\n",
       "popcode            \n",
       "ACB               6\n",
       "ASW              15\n",
       "ESN               4\n",
       "LWK               2\n",
       "MSL               1\n",
       "YRI               4"
      ]
     },
     "execution_count": 112,
     "metadata": {},
     "output_type": "execute_result"
    }
   ],
   "source": [
    "subpopdf.loc[afk_ids].groupby('popcode').count()"
   ]
  },
  {
   "cell_type": "markdown",
   "metadata": {},
   "source": [
    "## Samples chosen using greedy iterative model with no labels"
   ]
  },
  {
   "cell_type": "code",
   "execution_count": 83,
   "metadata": {},
   "outputs": [],
   "source": [
    "gi_samples = []\n",
    "with open('./gv2_all_extra.csv','r') as gi_file:\n",
    "    for line in gi_file:\n",
    "        gi_samples.append(line.strip())\n",
    "gi_samples = set(gi_samples)"
   ]
  },
  {
   "cell_type": "code",
   "execution_count": 94,
   "metadata": {},
   "outputs": [],
   "source": [
    "all_samples = afk_ids | gi_samples | all_eur_ids | phase1_p1_agg_ids"
   ]
  },
  {
   "cell_type": "markdown",
   "metadata": {},
   "source": [
    "## Writing Samples to files and Writing OOS too\n",
    "The intersection between all these samples are zero. I checked"
   ]
  },
  {
   "cell_type": "code",
   "execution_count": 97,
   "metadata": {},
   "outputs": [],
   "source": [
    "with open('./eval/sample_ids.txt','wt') as sample_file:\n",
    "    for id in all_samples:\n",
    "        print(f'0 {id}',file=sample_file)\n",
    "with open('./eval/oos_ids.txt','wt') as oos_file:\n",
    "    for id in (main_ids - p1p1a_parents)-all_samples:\n",
    "        print(f'0 {id}',file=oos_file)"
   ]
  },
  {
   "cell_type": "code",
   "execution_count": 99,
   "metadata": {},
   "outputs": [
    {
     "data": {
      "text/plain": [
       "[]"
      ]
     },
     "execution_count": 99,
     "metadata": {},
     "output_type": "execute_result"
    }
   ],
   "source": []
  },
  {
   "cell_type": "code",
   "execution_count": null,
   "metadata": {},
   "outputs": [],
   "source": []
  }
 ],
 "metadata": {
  "kernelspec": {
   "display_name": "Python 3.8.13 ('ukbb')",
   "language": "python",
   "name": "python3"
  },
  "language_info": {
   "codemirror_mode": {
    "name": "ipython",
    "version": 3
   },
   "file_extension": ".py",
   "mimetype": "text/x-python",
   "name": "python",
   "nbconvert_exporter": "python",
   "pygments_lexer": "ipython3",
   "version": "3.8.13"
  },
  "orig_nbformat": 4,
  "vscode": {
   "interpreter": {
    "hash": "74fa86e4a37af23c945a33723b564eb92fbe092b2e098feef170990e50da710d"
   }
  }
 },
 "nbformat": 4,
 "nbformat_minor": 2
}
